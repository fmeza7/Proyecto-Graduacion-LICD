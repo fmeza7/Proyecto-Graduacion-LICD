{
 "cells": [
  {
   "cell_type": "code",
   "execution_count": 533,
   "metadata": {},
   "outputs": [],
   "source": [
    "import networkx as nx\n",
    "import matplotlib.pyplot as plt\n",
    "import random\n",
    "from collections import defaultdict\n",
    "import numpy as np\n",
    "from positional_encodings.torch_encodings import *\n",
    "\n",
    "import seaborn as sns\n",
    "\n",
    "import torch\n",
    "import torch.nn as nn\n",
    "import torch.nn.functional as F\n",
    "from torch.nn.utils.rnn import pad_sequence\n",
    "import torch.optim as optim\n",
    "from torch.utils.data import Dataset, DataLoader, random_split\n",
    "from torch.optim.lr_scheduler import ReduceLROnPlateau\n",
    "\n",
    "from pyvis.network import Network\n",
    "from IPython.display import display, HTML"
   ]
  },
  {
   "cell_type": "markdown",
   "metadata": {},
   "source": [
    "### Dataset generation"
   ]
  },
  {
   "cell_type": "code",
   "execution_count": 760,
   "metadata": {},
   "outputs": [],
   "source": [
    "def generate_non_isomorphic_graphs(num_nodes, allow_cycles):\n",
    "    def generate_random_tree(n):\n",
    "        tree = nx.random_tree(n)\n",
    "        return tree\n",
    "    \n",
    "    def generate_random_graph_with_one_triangle(n, node_participation):\n",
    "        # Create a tree\n",
    "        graph = generate_random_tree(n)\n",
    "           # List all nodes with degree 2 or more\n",
    "        nodes_with_degree_2 = [node for node in graph.nodes() if graph.degree(node) >= 2]\n",
    "        # Select a random node with degree 2 or more\n",
    "        node = random.choice(nodes_with_degree_2)\n",
    "\n",
    "        neighbors = list(graph.neighbors(node))\n",
    "        # Selected randomly 2 numbers from the neighbors of the node\n",
    "        a, b = random.sample(neighbors, 2)\n",
    "        graph.add_edge(a, b)\n",
    "\n",
    "        triangle_nodes = [node, a, b]\n",
    "        \n",
    "        nodes = list(graph.nodes)\n",
    "        \n",
    "        # Add one triangle (3-node cycle) to the directed graph\n",
    "        if n >= 3:\n",
    "            for node in triangle_nodes:\n",
    "                node_participation[node] += 1\n",
    "        \n",
    "        return graph\n",
    "    \n",
    "    graphs = []\n",
    "    node_participation = defaultdict(int)\n",
    "    if allow_cycles:\n",
    "        for _ in range(10000):  # Generate 1000 different graphs to ensure non-isomorphism\n",
    "            graphs.append(generate_random_graph_with_one_triangle(num_nodes, node_participation))\n",
    "    else:\n",
    "        for _ in range(10000):\n",
    "            graphs.append(generate_random_tree(num_nodes))\n",
    "    \n",
    "    non_isomorphic_graphs = []\n",
    "    for g in graphs:\n",
    "        if all(not nx.is_isomorphic(g, existing_g) for existing_g in non_isomorphic_graphs):\n",
    "            non_isomorphic_graphs.append(g)\n",
    "        # non_isomorphic_graphs.append(g)\n",
    "    print(len(non_isomorphic_graphs))\n",
    "    # Print the number of edges in each graph and which type of graph it is\n",
    "    for g in non_isomorphic_graphs:\n",
    "        print(f\"Number of edges: {g.number_of_edges()}, Is tree: {nx.is_tree(g)}\")\n",
    "    return non_isomorphic_graphs, node_participation\n",
    "\n",
    "def plot_graphs(graphs, node_participation, num_nodes, allow_cycles):\n",
    "    plt.figure(figsize=(20, 10))\n",
    "    for i, g in enumerate(graphs[:10]):\n",
    "        plt.subplot(2, 5, i + 1)\n",
    "        nx.draw(g, with_labels=True, node_color='lightblue', edge_color='gray', node_size=500, font_size=10)\n",
    "        plt.title(f'Graph {i + 1}')\n",
    "    plt.show()\n",
    "    \n",
    "    if allow_cycles:\n",
    "        total_cycles = sum(node_participation.values()) // 3  # Each cycle involves 3 nodes\n",
    "        for node in range(num_nodes):\n",
    "            percentage = (node_participation[node] / total_cycles) * 100\n",
    "            print(f'Node {node} is part of {percentage:.2f}% of the total cycles.')\n",
    "\n",
    "# Example usage\n",
    "num_nodes = 16\n",
    "allow_cycles = True\n",
    "graphs_with_cycles, node_participation_with_cycles = generate_non_isomorphic_graphs(num_nodes, allow_cycles)\n",
    "allow_cycles = False\n",
    "graphs_without_cycles, node_participation_without_cycles = generate_non_isomorphic_graphs(num_nodes, allow_cycles)\n",
    "\n",
    "plot_graphs(graphs_with_cycles[-10:], node_participation_with_cycles, num_nodes, True)  # Plot the first 10 non-isomorphic graphs with cycles\n",
    "plot_graphs(graphs_without_cycles[-10:], node_participation_without_cycles, num_nodes, False)  # Plot the first 10 non-isomorphic graphs without cycles\n",
    "\n"
   ]
  },
  {
   "cell_type": "code",
   "execution_count": 755,
   "metadata": {},
   "outputs": [
    {
     "data": {
      "text/plain": [
       "(32.0, 32.0)"
      ]
     },
     "execution_count": 755,
     "metadata": {},
     "output_type": "execute_result"
    }
   ],
   "source": [
    "ceros = []\n",
    "unos = []\n",
    "for a, l in zip(adj_matrices, labels):\n",
    "  if l == 1:\n",
    "    unos.append(a)\n",
    "  else:\n",
    "    ceros.append(a)\n",
    "len(unos), len(ceros)\n",
    "\n",
    "np.mean([np.sum(c) for c in unos]), np.mean([np.sum(c) for c in ceros])"
   ]
  },
  {
   "cell_type": "code",
   "execution_count": 695,
   "metadata": {},
   "outputs": [],
   "source": [
    "class GraphDataset(Dataset):\n",
    "    def __init__(self, adj_matrices, labels):\n",
    "        self.adj_matrices = adj_matrices\n",
    "        self.labels = labels\n",
    "\n",
    "    def __len__(self):\n",
    "        return len(self.labels)\n",
    "\n",
    "    def __getitem__(self, idx):\n",
    "        return self.adj_matrices[idx], self.labels[idx]"
   ]
  },
  {
   "cell_type": "code",
   "execution_count": 696,
   "metadata": {},
   "outputs": [],
   "source": [
    "def collate_fn(batch):\n",
    "    adj_matrices, labels = zip(*batch)\n",
    "\n",
    "    # Find max number of nodes\n",
    "    max_nodes = max(len(adj) for adj in adj_matrices)\n",
    "\n",
    "    # Pad adjacency matrices\n",
    "    padded_adj = []\n",
    "    for adj in adj_matrices:\n",
    "        pad_size = max_nodes - len(adj)\n",
    "        padded = np.pad(adj, ((0, pad_size), (0, pad_size)), mode='constant')\n",
    "        padded_adj.append(padded)\n",
    "\n",
    "    # Convert to PyTorch tensors\n",
    "    padded_adj = np.array(padded_adj)\n",
    "    adj_tensor = torch.FloatTensor(padded_adj)\n",
    "\n",
    "    labels_tensor = torch.FloatTensor(labels)\n",
    "\n",
    "    return adj_tensor, labels_tensor"
   ]
  },
  {
   "cell_type": "code",
   "execution_count": 756,
   "metadata": {},
   "outputs": [
    {
     "name": "stdout",
     "output_type": "stream",
     "text": [
      "995 942\n",
      "(16, 16) (16, 16)\n"
     ]
    },
    {
     "name": "stderr",
     "output_type": "stream",
     "text": [
      "/var/folders/z7/4w4x_vfs7k79ky63zf8xhj2w0000gn/T/ipykernel_92894/3761643932.py:2: FutureWarning: adjacency_matrix will return a scipy.sparse array instead of a matrix in Networkx 3.0.\n",
      "  adj_matrices_with_cycles = [nx.adjacency_matrix(g).todense() for g in graphs_with_cycles]\n",
      "/var/folders/z7/4w4x_vfs7k79ky63zf8xhj2w0000gn/T/ipykernel_92894/3761643932.py:3: FutureWarning: adjacency_matrix will return a scipy.sparse array instead of a matrix in Networkx 3.0.\n",
      "  adj_matrices_without_cycles = [nx.adjacency_matrix(g).todense() for g in graphs_without_cycles]\n"
     ]
    },
    {
     "data": {
      "text/plain": [
       "array([1, 1, 1, ..., 0, 0, 0])"
      ]
     },
     "execution_count": 756,
     "metadata": {},
     "output_type": "execute_result"
    }
   ],
   "source": [
    "# Make adjacency matrix from the graphs with cycles and without cycles\n",
    "adj_matrices_with_cycles = [nx.adjacency_matrix(g).todense() for g in graphs_with_cycles]\n",
    "adj_matrices_without_cycles = [nx.adjacency_matrix(g).todense() for g in graphs_without_cycles]\n",
    "print(len(adj_matrices_with_cycles), len(adj_matrices_without_cycles))\n",
    "print(adj_matrices_with_cycles[0].shape, adj_matrices_without_cycles[0].shape)\n",
    "\n",
    "# Combine the adjacency matrices into a single dataset\n",
    "adj_matrices = np.array(adj_matrices_with_cycles + adj_matrices_without_cycles)\n",
    "adj_matrices.shape\n",
    "\n",
    "# Create a list with the values of the labels\n",
    "labels = [1] * len(adj_matrices_with_cycles) + [0] * len(adj_matrices_without_cycles)\n",
    "labels = np.array(labels)\n",
    "labels\n"
   ]
  },
  {
   "cell_type": "code",
   "execution_count": 757,
   "metadata": {},
   "outputs": [
    {
     "name": "stdout",
     "output_type": "stream",
     "text": [
      "1549\n"
     ]
    }
   ],
   "source": [
    "# Create dataset\n",
    "dataset = GraphDataset(adj_matrices, labels)\n",
    "\n",
    "# Create train-test split\n",
    "train_size = int(0.8 * len(dataset))\n",
    "print(train_size)\n",
    "test_size = len(dataset) - train_size\n",
    "train_dataset, test_dataset = random_split(dataset, [train_size, test_size])\n",
    "\n",
    "# Create data loaders\n",
    "batch_size = 64\n",
    "train_loader = DataLoader(train_dataset, batch_size=batch_size, shuffle=True, collate_fn=collate_fn)\n",
    "test_loader = DataLoader(test_dataset, batch_size=batch_size, shuffle=True, collate_fn=collate_fn)"
   ]
  },
  {
   "cell_type": "code",
   "execution_count": 758,
   "metadata": {},
   "outputs": [],
   "source": [
    "# Check if train_loader and test_loader are different, they cant have the same graphs\n",
    "for i, (train_batch, test_batch) in enumerate(zip(train_loader, test_loader)):\n",
    "    train_adj, train_labels = train_batch\n",
    "    test_adj, test_labels = test_batch\n",
    "    if torch.equal(train_adj, test_adj) and torch.equal(train_labels, test_labels):\n",
    "        print(f\"Error: Train and Test batches {i} are the same!\")"
   ]
  },
  {
   "cell_type": "code",
   "execution_count": 759,
   "metadata": {},
   "outputs": [
    {
     "name": "stdout",
     "output_type": "stream",
     "text": [
      "Epoch 1/50, Train Loss: 0.6946, Test Loss: 0.6917\n",
      "Epoch 2/50, Train Loss: 0.6858, Test Loss: 0.6962\n",
      "Epoch 3/50, Train Loss: 0.6790, Test Loss: 0.6941\n",
      "Epoch 4/50, Train Loss: 0.6727, Test Loss: 0.6976\n",
      "Epoch 5/50, Train Loss: 0.6654, Test Loss: 0.6921\n",
      "Epoch 6/50, Train Loss: 0.6571, Test Loss: 0.6821\n",
      "Epoch 7/50, Train Loss: 0.6471, Test Loss: 0.6869\n",
      "Epoch 8/50, Train Loss: 0.6402, Test Loss: 0.7185\n",
      "Epoch 9/50, Train Loss: 0.6314, Test Loss: 0.7062\n",
      "Epoch 10/50, Train Loss: 0.6284, Test Loss: 0.7049\n",
      "Epoch 11/50, Train Loss: 0.6204, Test Loss: 0.7280\n",
      "Epoch 00012: reducing learning rate of group 0 to 1.0000e-04.\n",
      "Epoch 12/50, Train Loss: 0.6132, Test Loss: 0.7296\n",
      "Epoch 13/50, Train Loss: 0.6029, Test Loss: 0.7222\n",
      "Epoch 14/50, Train Loss: 0.5994, Test Loss: 0.7134\n",
      "Epoch 15/50, Train Loss: 0.6008, Test Loss: 0.7336\n",
      "Epoch 16/50, Train Loss: 0.5984, Test Loss: 0.7078\n",
      "Epoch 17/50, Train Loss: 0.6002, Test Loss: 0.7330\n",
      "Epoch 00018: reducing learning rate of group 0 to 1.0000e-05.\n",
      "Epoch 18/50, Train Loss: 0.5956, Test Loss: 0.7334\n",
      "Epoch 19/50, Train Loss: 0.6001, Test Loss: 0.6992\n",
      "Epoch 20/50, Train Loss: 0.5974, Test Loss: 0.6757\n",
      "Epoch 21/50, Train Loss: 0.5985, Test Loss: 0.6887\n",
      "Epoch 22/50, Train Loss: 0.5953, Test Loss: 0.7437\n",
      "Epoch 23/50, Train Loss: 0.5961, Test Loss: 0.7295\n",
      "Epoch 24/50, Train Loss: 0.5981, Test Loss: 0.7247\n",
      "Epoch 25/50, Train Loss: 0.5952, Test Loss: 0.7266\n",
      "Epoch 00026: reducing learning rate of group 0 to 1.0000e-06.\n",
      "Epoch 26/50, Train Loss: 0.5977, Test Loss: 0.7352\n",
      "Epoch 27/50, Train Loss: 0.5969, Test Loss: 0.7313\n",
      "Epoch 28/50, Train Loss: 0.5959, Test Loss: 0.7230\n",
      "Epoch 29/50, Train Loss: 0.5985, Test Loss: 0.7052\n",
      "Epoch 30/50, Train Loss: 0.5942, Test Loss: 0.6995\n",
      "Epoch 31/50, Train Loss: 0.5951, Test Loss: 0.7030\n",
      "Epoch 00032: reducing learning rate of group 0 to 1.0000e-07.\n",
      "Epoch 32/50, Train Loss: 0.5935, Test Loss: 0.6988\n",
      "Epoch 33/50, Train Loss: 0.5963, Test Loss: 0.7135\n",
      "Epoch 34/50, Train Loss: 0.5968, Test Loss: 0.6936\n",
      "Epoch 35/50, Train Loss: 0.5936, Test Loss: 0.6983\n",
      "Epoch 36/50, Train Loss: 0.5937, Test Loss: 0.7203\n",
      "Epoch 37/50, Train Loss: 0.5957, Test Loss: 0.7144\n",
      "Epoch 00038: reducing learning rate of group 0 to 1.0000e-08.\n",
      "Epoch 38/50, Train Loss: 0.5944, Test Loss: 0.7201\n",
      "Epoch 39/50, Train Loss: 0.5993, Test Loss: 0.7092\n",
      "Epoch 40/50, Train Loss: 0.5971, Test Loss: 0.7093\n",
      "Epoch 41/50, Train Loss: 0.5931, Test Loss: 0.6924\n",
      "Epoch 42/50, Train Loss: 0.5947, Test Loss: 0.6955\n",
      "Epoch 43/50, Train Loss: 0.5939, Test Loss: 0.7061\n",
      "Epoch 44/50, Train Loss: 0.5963, Test Loss: 0.7050\n",
      "Epoch 45/50, Train Loss: 0.5934, Test Loss: 0.7362\n",
      "Epoch 46/50, Train Loss: 0.5950, Test Loss: 0.7173\n",
      "Epoch 47/50, Train Loss: 0.5971, Test Loss: 0.7131\n",
      "Epoch 48/50, Train Loss: 0.5975, Test Loss: 0.7252\n",
      "Epoch 49/50, Train Loss: 0.5923, Test Loss: 0.7183\n",
      "Epoch 50/50, Train Loss: 0.5966, Test Loss: 0.7152\n"
     ]
    },
    {
     "data": {
      "image/png": "[encoded data removed]",
      "text/plain": [
       "<Figure size 1000x500 with 1 Axes>"
      ]
     },
     "metadata": {},
     "output_type": "display_data"
    },
    {
     "name": "stdout",
     "output_type": "stream",
     "text": [
      "Accuracy: 0.52\n"
     ]
    }
   ],
   "source": [
    "# Generate an MLP model\n",
    "class MLP(nn.Module):\n",
    "    def __init__(self, input_size, hidden_size, output_size):\n",
    "        super(MLP, self).__init__()\n",
    "        self.fc1 = nn.Linear(input_size, hidden_size)\n",
    "        self.fc2 = nn.Linear(hidden_size, output_size)\n",
    "    \n",
    "    def forward(self, x):\n",
    "        x = F.relu(self.fc1(x))\n",
    "        x = self.fc2(x)\n",
    "\n",
    "        return x\n",
    "    \n",
    "# Initialize the model\n",
    "input_size = adj_matrices.shape[1] * adj_matrices.shape[2]\n",
    "hidden_size = 16\n",
    "output_size = 1\n",
    "\n",
    "model = MLP(input_size, hidden_size, output_size)\n",
    "\n",
    "# Define the loss function and optimizer\n",
    "criterion = nn.BCEWithLogitsLoss()\n",
    "optimizer = optim.Adam(model.parameters(), lr=0.001)\n",
    "\n",
    "# Train the model\n",
    "num_epochs = 50\n",
    "train_losses = []\n",
    "test_losses = []\n",
    "scheduler = ReduceLROnPlateau(optimizer, 'min', patience=5, verbose=True)\n",
    "\n",
    "for epoch in range(num_epochs):\n",
    "    model.train()\n",
    "    train_loss = 0.0\n",
    "    for adj, labels in train_loader:\n",
    "        adj = adj.view(-1, input_size)\n",
    "        optimizer.zero_grad()\n",
    "        outputs = model(adj)\n",
    "        loss = criterion(outputs.squeeze(), labels)\n",
    "        loss.backward()\n",
    "        optimizer.step()\n",
    "        train_loss += loss.item()\n",
    "    train_loss /= len(train_loader)\n",
    "    train_losses.append(train_loss)\n",
    "\n",
    "    model.eval()\n",
    "    test_loss = 0.0\n",
    "    with torch.no_grad():\n",
    "        for adj, labels in test_loader:\n",
    "            adj = adj.view(-1, input_size)\n",
    "            outputs = model(adj)\n",
    "            loss = criterion(outputs.squeeze(), labels)\n",
    "            test_loss += loss.item()\n",
    "        test_loss /= len(test_loader)\n",
    "        test_losses.append(test_loss)\n",
    "\n",
    "    scheduler.step(test_loss)\n",
    "\n",
    "    print(f'Epoch {epoch+1}/{num_epochs}, Train Loss: {train_loss:.4f}, Test Loss: {test_loss:.4f}')\n",
    "\n",
    "# Plot the training and test losses\n",
    "plt.figure(figsize=(10, 5))\n",
    "plt.plot(train_losses, label='Train Loss')\n",
    "plt.plot(test_losses, label='Test Loss')\n",
    "plt.xlabel('Epoch')\n",
    "\n",
    "plt.ylabel('Loss')\n",
    "plt.legend()\n",
    "plt.show()\n",
    "\n",
    "# Show accuracy\n",
    "model.eval()\n",
    "correct = 0\n",
    "total = 0\n",
    "with torch.no_grad():\n",
    "    for adj, labels in test_loader:\n",
    "        adj = adj.view(-1, input_size)\n",
    "        outputs = model(adj)\n",
    "        predicted = torch.round(torch.sigmoid(outputs))\n",
    "        total += labels.size(0)\n",
    "        correct += (predicted.squeeze() == labels).sum().item()\n",
    "\n",
    "print(f'Accuracy: {correct / total:.2f}')\n"
   ]
  }
 ],
 "metadata": {
  "kernelspec": {
   "display_name": "mining-project",
   "language": "python",
   "name": "python3"
  },
  "language_info": {
   "codemirror_mode": {
    "name": "ipython",
    "version": 3
   },
   "file_extension": ".py",
   "mimetype": "text/x-python",
   "name": "python",
   "nbconvert_exporter": "python",
   "pygments_lexer": "ipython3",
   "version": "3.8.18"
  }
 },
 "nbformat": 4,
 "nbformat_minor": 2
}
